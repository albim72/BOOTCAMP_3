{
 "cells":[
  {
   "cell_type":"code",
   "source":[
    "import matplotlib.pyplot as plt\n",
    "import numpy as np\n",
    "import pandas as pd\n",
    "import tensorflow as tf"
   ],
   "execution_count":1,
   "outputs":[
    
   ],
   "metadata":{
    "datalore":{
     "node_id":"Js1hzMmjwprdM0Yvby6K5Q",
     "type":"CODE",
     "hide_input_from_viewers":true,
     "hide_output_from_viewers":true
    }
   }
  },
  {
   "cell_type":"code",
   "source":[
    "from sklearn.metrics import accuracy_score,precision_score,recall_score\n",
    "from sklearn.model_selection import train_test_split\n",
    "from tensorflow.keras import layers,losses\n",
    "from tensorflow.keras.models import Model"
   ],
   "execution_count":2,
   "outputs":[
    
   ],
   "metadata":{
    "datalore":{
     "node_id":"cT0DNKyLuMoRafrCz5zykm",
     "type":"CODE",
     "hide_input_from_viewers":true,
     "hide_output_from_viewers":true
    }
   }
  },
  {
   "cell_type":"code",
   "source":[
    "dataframe = pd.read_csv(\"https:\/\/storage.googleapis.com\/download.tensorflow.org\/data\/ecg.csv\",header=None)\n",
    "raw_data = dataframe.values\n",
    "dataframe.head()"
   ],
   "execution_count":4,
   "outputs":[
    {
     "data":{
      "text\/html":[
       "<div>\n",
       "<style scoped>\n",
       "    .dataframe tbody tr th:only-of-type {\n",
       "        vertical-align: middle;\n",
       "    }\n",
       "\n",
       "    .dataframe tbody tr th {\n",
       "        vertical-align: top;\n",
       "    }\n",
       "\n",
       "    .dataframe thead th {\n",
       "        text-align: right;\n",
       "    }\n",
       "<\/style>\n",
       "<table border=\"1\" class=\"dataframe\">\n",
       "  <thead>\n",
       "    <tr style=\"text-align: right;\">\n",
       "      <th><\/th>\n",
       "      <th>0<\/th>\n",
       "      <th>1<\/th>\n",
       "      <th>2<\/th>\n",
       "      <th>3<\/th>\n",
       "      <th>4<\/th>\n",
       "      <th>5<\/th>\n",
       "      <th>6<\/th>\n",
       "      <th>7<\/th>\n",
       "      <th>8<\/th>\n",
       "      <th>9<\/th>\n",
       "      <th>...<\/th>\n",
       "      <th>131<\/th>\n",
       "      <th>132<\/th>\n",
       "      <th>133<\/th>\n",
       "      <th>134<\/th>\n",
       "      <th>135<\/th>\n",
       "      <th>136<\/th>\n",
       "      <th>137<\/th>\n",
       "      <th>138<\/th>\n",
       "      <th>139<\/th>\n",
       "      <th>140<\/th>\n",
       "    <\/tr>\n",
       "  <\/thead>\n",
       "  <tbody>\n",
       "    <tr>\n",
       "      <th>0<\/th>\n",
       "      <td>-0.112522<\/td>\n",
       "      <td>-2.827204<\/td>\n",
       "      <td>-3.773897<\/td>\n",
       "      <td>-4.349751<\/td>\n",
       "      <td>-4.376041<\/td>\n",
       "      <td>-3.474986<\/td>\n",
       "      <td>-2.181408<\/td>\n",
       "      <td>-1.818286<\/td>\n",
       "      <td>-1.250522<\/td>\n",
       "      <td>-0.477492<\/td>\n",
       "      <td>...<\/td>\n",
       "      <td>0.792168<\/td>\n",
       "      <td>0.933541<\/td>\n",
       "      <td>0.796958<\/td>\n",
       "      <td>0.578621<\/td>\n",
       "      <td>0.257740<\/td>\n",
       "      <td>0.228077<\/td>\n",
       "      <td>0.123431<\/td>\n",
       "      <td>0.925286<\/td>\n",
       "      <td>0.193137<\/td>\n",
       "      <td>1.0<\/td>\n",
       "    <\/tr>\n",
       "    <tr>\n",
       "      <th>1<\/th>\n",
       "      <td>-1.100878<\/td>\n",
       "      <td>-3.996840<\/td>\n",
       "      <td>-4.285843<\/td>\n",
       "      <td>-4.506579<\/td>\n",
       "      <td>-4.022377<\/td>\n",
       "      <td>-3.234368<\/td>\n",
       "      <td>-1.566126<\/td>\n",
       "      <td>-0.992258<\/td>\n",
       "      <td>-0.754680<\/td>\n",
       "      <td>0.042321<\/td>\n",
       "      <td>...<\/td>\n",
       "      <td>0.538356<\/td>\n",
       "      <td>0.656881<\/td>\n",
       "      <td>0.787490<\/td>\n",
       "      <td>0.724046<\/td>\n",
       "      <td>0.555784<\/td>\n",
       "      <td>0.476333<\/td>\n",
       "      <td>0.773820<\/td>\n",
       "      <td>1.119621<\/td>\n",
       "      <td>-1.436250<\/td>\n",
       "      <td>1.0<\/td>\n",
       "    <\/tr>\n",
       "    <tr>\n",
       "      <th>2<\/th>\n",
       "      <td>-0.567088<\/td>\n",
       "      <td>-2.593450<\/td>\n",
       "      <td>-3.874230<\/td>\n",
       "      <td>-4.584095<\/td>\n",
       "      <td>-4.187449<\/td>\n",
       "      <td>-3.151462<\/td>\n",
       "      <td>-1.742940<\/td>\n",
       "      <td>-1.490659<\/td>\n",
       "      <td>-1.183580<\/td>\n",
       "      <td>-0.394229<\/td>\n",
       "      <td>...<\/td>\n",
       "      <td>0.886073<\/td>\n",
       "      <td>0.531452<\/td>\n",
       "      <td>0.311377<\/td>\n",
       "      <td>-0.021919<\/td>\n",
       "      <td>-0.713683<\/td>\n",
       "      <td>-0.532197<\/td>\n",
       "      <td>0.321097<\/td>\n",
       "      <td>0.904227<\/td>\n",
       "      <td>-0.421797<\/td>\n",
       "      <td>1.0<\/td>\n",
       "    <\/tr>\n",
       "    <tr>\n",
       "      <th>3<\/th>\n",
       "      <td>0.490473<\/td>\n",
       "      <td>-1.914407<\/td>\n",
       "      <td>-3.616364<\/td>\n",
       "      <td>-4.318823<\/td>\n",
       "      <td>-4.268016<\/td>\n",
       "      <td>-3.881110<\/td>\n",
       "      <td>-2.993280<\/td>\n",
       "      <td>-1.671131<\/td>\n",
       "      <td>-1.333884<\/td>\n",
       "      <td>-0.965629<\/td>\n",
       "      <td>...<\/td>\n",
       "      <td>0.350816<\/td>\n",
       "      <td>0.499111<\/td>\n",
       "      <td>0.600345<\/td>\n",
       "      <td>0.842069<\/td>\n",
       "      <td>0.952074<\/td>\n",
       "      <td>0.990133<\/td>\n",
       "      <td>1.086798<\/td>\n",
       "      <td>1.403011<\/td>\n",
       "      <td>-0.383564<\/td>\n",
       "      <td>1.0<\/td>\n",
       "    <\/tr>\n",
       "    <tr>\n",
       "      <th>4<\/th>\n",
       "      <td>0.800232<\/td>\n",
       "      <td>-0.874252<\/td>\n",
       "      <td>-2.384761<\/td>\n",
       "      <td>-3.973292<\/td>\n",
       "      <td>-4.338224<\/td>\n",
       "      <td>-3.802422<\/td>\n",
       "      <td>-2.534510<\/td>\n",
       "      <td>-1.783423<\/td>\n",
       "      <td>-1.594450<\/td>\n",
       "      <td>-0.753199<\/td>\n",
       "      <td>...<\/td>\n",
       "      <td>1.148884<\/td>\n",
       "      <td>0.958434<\/td>\n",
       "      <td>1.059025<\/td>\n",
       "      <td>1.371682<\/td>\n",
       "      <td>1.277392<\/td>\n",
       "      <td>0.960304<\/td>\n",
       "      <td>0.971020<\/td>\n",
       "      <td>1.614392<\/td>\n",
       "      <td>1.421456<\/td>\n",
       "      <td>1.0<\/td>\n",
       "    <\/tr>\n",
       "  <\/tbody>\n",
       "<\/table>\n",
       "<p>5 rows × 141 columns<\/p>\n",
       "<\/div>"
      ]
     },
     "metadata":{
      
     },
     "output_type":"display_data"
    }
   ],
   "metadata":{
    "datalore":{
     "node_id":"vNYFI9I8QvlgvK3Ld72p2M",
     "type":"CODE",
     "hide_input_from_viewers":true,
     "hide_output_from_viewers":true
    }
   }
  },
  {
   "cell_type":"code",
   "source":[
    "labels = raw_data[:,-1]\n",
    "data = raw_data[:,0:-1]\n",
    "train_data, test_data, train_labels, test_labels = train_test_split(data,labels,test_size=0.2,random_state=21)"
   ],
   "execution_count":5,
   "outputs":[
    
   ],
   "metadata":{
    "datalore":{
     "node_id":"vkcd875USXzHMUgq2yJePB",
     "type":"CODE",
     "hide_input_from_viewers":true,
     "hide_output_from_viewers":true
    }
   }
  },
  {
   "cell_type":"code",
   "source":[
    "min_val = tf.reduce_min(train_data)\n",
    "max_val = tf.reduce_max(train_data)\n",
    "\n",
    "train_data = (train_data-min_val)\/(max_val-min_val)\n",
    "test_data = (test_data-min_val)\/(max_val-min_val)\n",
    "\n",
    "train_data = tf.cast(train_data,tf.float32)\n",
    "test_data = tf.cast(test_data,tf.float32)"
   ],
   "execution_count":6,
   "outputs":[
    
   ],
   "metadata":{
    "datalore":{
     "node_id":"aVWqD00aGkV2eLXWhFNBxr",
     "type":"CODE",
     "hide_input_from_viewers":true,
     "hide_output_from_viewers":true
    }
   }
  },
  {
   "cell_type":"code",
   "source":[
    "train_labels = train_labels.astype(bool)\n",
    "test_labels = test_labels.astype(bool)"
   ],
   "execution_count":7,
   "outputs":[
    
   ],
   "metadata":{
    "datalore":{
     "node_id":"lnh12yqMqKrKi33t8qyjHG",
     "type":"CODE",
     "hide_input_from_viewers":true,
     "hide_output_from_viewers":true
    }
   }
  },
  {
   "cell_type":"code",
   "source":[
    "normal_train_data = train_data[train_labels]\n",
    "normal_test_data = test_data[test_labels]\n",
    "\n",
    "anomalous_train_data = train_data[~train_labels]\n",
    "anomalous_test_data = test_data[~test_labels]"
   ],
   "execution_count":8,
   "outputs":[
    
   ],
   "metadata":{
    "datalore":{
     "node_id":"mVHZB7bbG4fAYfKI5AStyq",
     "type":"CODE",
     "hide_input_from_viewers":true,
     "hide_output_from_viewers":true
    }
   }
  },
  {
   "cell_type":"code",
   "source":[
    "#prawidłowe EKG\n",
    "plt.grid()\n",
    "plt.plot(np.arange(140),normal_train_data[0])\n",
    "plt.title('prawidłowe EKG')\n",
    "plt.show()"
   ],
   "execution_count":9,
   "outputs":[
    {
     "data":{
      "image\/png":"[encoded data removed]"
     },
     "metadata":{
      "image\/png":{
       
      }
     },
     "output_type":"display_data"
    }
   ],
   "metadata":{
    "datalore":{
     "node_id":"gXj7HvU582VzjDLCmhQZoT",
     "type":"CODE",
     "hide_input_from_viewers":true,
     "hide_output_from_viewers":true
    }
   }
  },
  {
   "cell_type":"code",
   "source":[
    "#nieprawidłowe EKG\n",
    "plt.grid()\n",
    "plt.plot(np.arange(140),anomalous_train_data[0])\n",
    "plt.title('nieprawidłowe EKG')\n",
    "plt.show()"
   ],
   "execution_count":10,
   "outputs":[
    {
     "data":{
      "image\/png":"[encoded data removed]"
     },
     "metadata":{
      "image\/png":{
       
      }
     },
     "output_type":"display_data"
    }
   ],
   "metadata":{
    "datalore":{
     "node_id":"jgcmxaZjejq0fWVtuhoWCC",
     "type":"CODE",
     "hide_input_from_viewers":true,
     "hide_output_from_viewers":true
    }
   }
  }
 ],
 "metadata":{
  "kernelspec":{
   "display_name":"Python",
   "language":"python",
   "name":"python"
  },
  "datalore":{
   "computation_mode":"JUPYTER",
   "package_manager":"pip",
   "base_environment":"default",
   "packages":[
    
   ],
   "report_row_ids":[
    
   ],
   "version":3
  }
 },
 "nbformat":4,
 "nbformat_minor":4
}