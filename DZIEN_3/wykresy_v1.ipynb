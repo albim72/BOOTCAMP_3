{
 "cells":[
  {
   "cell_type":"code",
   "source":[
    "import numpy as np\n",
    "import matplotlib.pyplot as plt"
   ],
   "execution_count":2,
   "outputs":[
    
   ],
   "metadata":{
    "datalore":{
     "node_id":"BrLqn7dWxir4FqINaTZ3Kt",
     "type":"CODE",
     "hide_input_from_viewers":true,
     "hide_output_from_viewers":true
    }
   }
  },
  {
   "cell_type":"markdown",
   "source":[
    "# wykres słupkowy"
   ],
   "attachments":{
    
   },
   "metadata":{
    "datalore":{
     "node_id":"hPmAWHSjkFYmdumXi2vaQK",
     "type":"MD",
     "hide_input_from_viewers":true,
     "hide_output_from_viewers":true
    }
   }
  },
  {
   "cell_type":"code",
   "source":[
    "fig,ax = plt.subplots()\n",
    "marki = ['audi','toyota','mercedes','honda','kia','jeep','seat']\n",
    "sprzedaz = [12.7,28.5,4.6,16.8,21.3,6.2,14]\n",
    "\n",
    "bar_labels = ['audi','toyota','mercedes','honda','kia','jeep','seat']\n",
    "bar_colors = ['tab:red','tab:green','tab:red','#A3B456','tab:orange','tab:blue','#FFFF00']\n",
    "\n",
    "ax.bar(marki,sprzedaz,label=bar_labels,color=bar_colors)\n",
    "ax.set_xlabel('marki samochodów')\n",
    "ax.set_ylabel('sprzedaż samochodów')\n",
    "\n",
    "ax.legend(title='marki')\n",
    "plt.show()\n"
   ],
   "execution_count":7,
   "outputs":[
    {
     "data":{
      "image\/png":"[encoded data removed]"
     },
     "metadata":{
      "image\/png":{
       
      }
     },
     "output_type":"display_data"
    }
   ],
   "metadata":{
    "datalore":{
     "node_id":"qQAvDM99EXP1oLvlUUzGud",
     "type":"CODE",
     "hide_input_from_viewers":true,
     "hide_output_from_viewers":true
    }
   }
  }
 ],
 "metadata":{
  "kernelspec":{
   "display_name":"Python",
   "language":"python",
   "name":"python"
  },
  "datalore":{
   "computation_mode":"JUPYTER",
   "package_manager":"pip",
   "base_environment":"default",
   "packages":[
    
   ],
   "report_row_ids":[
    
   ],
   "version":3
  }
 },
 "nbformat":4,
 "nbformat_minor":4
}