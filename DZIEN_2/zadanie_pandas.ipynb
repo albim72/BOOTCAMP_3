{
 "cells":[
  {
   "cell_type":"code",
   "source":[
    "# Defining the data for the dataframe\r\n",
    "data = {\r\n",
    "    'Imię': ['Janek', 'Adel', 'Romuael', 'Beel'], \r\n",
    "    'Wiek': [25, 30, 35, 40], \r\n",
    "    'Zawód': ['Nauczyciel', 'Inżynier', 'Lekarz', 'Programista'], \r\n",
    "    'Miasto': ['Warszawa', 'Kraków', 'Poznań', 'Wrocław'],\r\n",
    "    'Kraj': ['Polska', 'Polska', 'Polska', 'Polska']\r\n",
    "}\r\n",
    "\r\n",
    "# Creating the dataframe\r\n",
    "df = pd.DataFrame(data)\r\n",
    "\r\n",
    "# Displaying the dataframe\r\n",
    "df\r"
   ],
   "execution_count":5,
   "outputs":[
    {
     "data":{
      "text\/html":[
       "<div>\n",
       "<style scoped>\n",
       "    .dataframe tbody tr th:only-of-type {\n",
       "        vertical-align: middle;\n",
       "    }\n",
       "\n",
       "    .dataframe tbody tr th {\n",
       "        vertical-align: top;\n",
       "    }\n",
       "\n",
       "    .dataframe thead th {\n",
       "        text-align: right;\n",
       "    }\n",
       "<\/style>\n",
       "<table border=\"1\" class=\"dataframe\">\n",
       "  <thead>\n",
       "    <tr style=\"text-align: right;\">\n",
       "      <th><\/th>\n",
       "      <th>Imię<\/th>\n",
       "      <th>Wiek<\/th>\n",
       "      <th>Zawód<\/th>\n",
       "      <th>Miasto<\/th>\n",
       "      <th>Kraj<\/th>\n",
       "    <\/tr>\n",
       "  <\/thead>\n",
       "  <tbody>\n",
       "    <tr>\n",
       "      <th>0<\/th>\n",
       "      <td>Janek<\/td>\n",
       "      <td>25<\/td>\n",
       "      <td>Nauczyciel<\/td>\n",
       "      <td>Warszawa<\/td>\n",
       "      <td>Polska<\/td>\n",
       "    <\/tr>\n",
       "    <tr>\n",
       "      <th>1<\/th>\n",
       "      <td>Adel<\/td>\n",
       "      <td>30<\/td>\n",
       "      <td>Inżynier<\/td>\n",
       "      <td>Kraków<\/td>\n",
       "      <td>Polska<\/td>\n",
       "    <\/tr>\n",
       "    <tr>\n",
       "      <th>2<\/th>\n",
       "      <td>Romuael<\/td>\n",
       "      <td>35<\/td>\n",
       "      <td>Lekarz<\/td>\n",
       "      <td>Poznań<\/td>\n",
       "      <td>Polska<\/td>\n",
       "    <\/tr>\n",
       "    <tr>\n",
       "      <th>3<\/th>\n",
       "      <td>Beel<\/td>\n",
       "      <td>40<\/td>\n",
       "      <td>Programista<\/td>\n",
       "      <td>Wrocław<\/td>\n",
       "      <td>Polska<\/td>\n",
       "    <\/tr>\n",
       "  <\/tbody>\n",
       "<\/table>\n",
       "<\/div>"
      ]
     },
     "metadata":{
      
     },
     "output_type":"display_data"
    }
   ],
   "metadata":{
    "datalore":{
     "node_id":"eNJfqG4quFpGzVSCAnfpyY",
     "type":"CODE",
     "hide_input_from_viewers":true,
     "hide_output_from_viewers":true
    }
   }
  }
 ],
 "metadata":{
  "kernelspec":{
   "display_name":"Python",
   "language":"python",
   "name":"python"
  },
  "datalore":{
   "computation_mode":"JUPYTER",
   "package_manager":"pip",
   "base_environment":"default",
   "packages":[
    
   ],
   "report_row_ids":[
    
   ],
   "version":3
  }
 },
 "nbformat":4,
 "nbformat_minor":4
}