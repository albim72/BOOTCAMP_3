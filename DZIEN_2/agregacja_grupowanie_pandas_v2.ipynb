{
 "cells":[
  {
   "cell_type":"code",
   "source":[
    "import numpy as np\n",
    "import pandas as pd\n",
    "PREVIOUS_MAX_ROWS = pd.options.display.max_rows\n",
    "pd.options.display.max_rows = 20\n",
    "np.random.seed(12345)\n",
    "import matplotlib.pyplot as plt\n",
    "%matplotlib inline\n",
    "plt.rc('figure',figsize=(10,6))\n",
    "np.set_printoptions(precision=2,suppress=True)"
   ],
   "execution_count":1,
   "outputs":[
    
   ],
   "metadata":{
    "datalore":{
     "node_id":"sW6AfHsWqIY6znRDQmGUjI",
     "type":"CODE",
     "hide_input_from_viewers":true,
     "hide_output_from_viewers":true
    }
   }
  },
  {
   "cell_type":"code",
   "source":[
    "df = pd.DataFrame({\n",
    "    'klucz1':['a','b','a','b','a','a'],\n",
    "    'klucz2':['jeden','jeden','dwa','dwa','jeden','trzy'],\n",
    "    'dane1':np.random.randn(6),\n",
    "    'dane2':np.random.randn(6)\n",
    "})\n",
    "\n",
    "df"
   ],
   "execution_count":7,
   "outputs":[
    {
     "data":{
      "text\/html":[
       "<div>\n",
       "<style scoped>\n",
       "    .dataframe tbody tr th:only-of-type {\n",
       "        vertical-align: middle;\n",
       "    }\n",
       "\n",
       "    .dataframe tbody tr th {\n",
       "        vertical-align: top;\n",
       "    }\n",
       "\n",
       "    .dataframe thead th {\n",
       "        text-align: right;\n",
       "    }\n",
       "<\/style>\n",
       "<table border=\"1\" class=\"dataframe\">\n",
       "  <thead>\n",
       "    <tr style=\"text-align: right;\">\n",
       "      <th><\/th>\n",
       "      <th>klucz1<\/th>\n",
       "      <th>klucz2<\/th>\n",
       "      <th>dane1<\/th>\n",
       "      <th>dane2<\/th>\n",
       "    <\/tr>\n",
       "  <\/thead>\n",
       "  <tbody>\n",
       "    <tr>\n",
       "      <th>0<\/th>\n",
       "      <td>a<\/td>\n",
       "      <td>jeden<\/td>\n",
       "      <td>1.007189<\/td>\n",
       "      <td>-2.001637<\/td>\n",
       "    <\/tr>\n",
       "    <tr>\n",
       "      <th>1<\/th>\n",
       "      <td>b<\/td>\n",
       "      <td>jeden<\/td>\n",
       "      <td>-1.296221<\/td>\n",
       "      <td>-0.371843<\/td>\n",
       "    <\/tr>\n",
       "    <tr>\n",
       "      <th>2<\/th>\n",
       "      <td>a<\/td>\n",
       "      <td>dwa<\/td>\n",
       "      <td>0.274992<\/td>\n",
       "      <td>1.669025<\/td>\n",
       "    <\/tr>\n",
       "    <tr>\n",
       "      <th>3<\/th>\n",
       "      <td>b<\/td>\n",
       "      <td>dwa<\/td>\n",
       "      <td>0.228913<\/td>\n",
       "      <td>-0.438570<\/td>\n",
       "    <\/tr>\n",
       "    <tr>\n",
       "      <th>4<\/th>\n",
       "      <td>a<\/td>\n",
       "      <td>jeden<\/td>\n",
       "      <td>1.352917<\/td>\n",
       "      <td>-0.539741<\/td>\n",
       "    <\/tr>\n",
       "    <tr>\n",
       "      <th>5<\/th>\n",
       "      <td>a<\/td>\n",
       "      <td>trzy<\/td>\n",
       "      <td>0.886429<\/td>\n",
       "      <td>0.476985<\/td>\n",
       "    <\/tr>\n",
       "  <\/tbody>\n",
       "<\/table>\n",
       "<\/div>"
      ]
     },
     "metadata":{
      
     },
     "output_type":"display_data"
    }
   ],
   "metadata":{
    "datalore":{
     "node_id":"7xDFcFwXeVL53U7Kp7YWrs",
     "type":"CODE",
     "hide_input_from_viewers":true,
     "hide_output_from_viewers":true
    }
   }
  },
  {
   "cell_type":"code",
   "source":[
    "grouped = df['dane1'].groupby(df['klucz1'])\n",
    "grouped"
   ],
   "execution_count":8,
   "outputs":[
    {
     "data":{
      "text\/plain":[
       "<pandas.core.groupby.generic.SeriesGroupBy object at 0x7f17e49cc6a0>"
      ]
     },
     "metadata":{
      
     },
     "output_type":"display_data"
    }
   ],
   "metadata":{
    "datalore":{
     "node_id":"S5CqcnZRx9g8YwWjNNOXLo",
     "type":"CODE",
     "hide_input_from_viewers":true,
     "hide_output_from_viewers":true
    }
   }
  },
  {
   "cell_type":"code",
   "source":[
    "grouped.mean()"
   ],
   "execution_count":9,
   "outputs":[
    {
     "data":{
      "text\/html":[
       "<pre>klucz1\n",
       "a    0.880382\n",
       "b   -0.533654\n",
       "Name: dane1, dtype: float64<\/pre>"
      ]
     },
     "metadata":{
      
     },
     "output_type":"display_data"
    }
   ],
   "metadata":{
    "datalore":{
     "node_id":"VcNVlXd5Guh0kacGPo5XW5",
     "type":"CODE",
     "hide_input_from_viewers":true,
     "hide_output_from_viewers":true
    }
   }
  },
  {
   "cell_type":"code",
   "source":[
    "means = df['dane1'].groupby([df['klucz1'],df['klucz2']]).mean()\n",
    "means"
   ],
   "execution_count":10,
   "outputs":[
    {
     "data":{
      "text\/html":[
       "<pre>klucz1  klucz2\n",
       "a       dwa       0.274992\n",
       "        jeden     1.180053\n",
       "        trzy      0.886429\n",
       "b       dwa       0.228913\n",
       "        jeden    -1.296221\n",
       "Name: dane1, dtype: float64<\/pre>"
      ]
     },
     "metadata":{
      
     },
     "output_type":"display_data"
    }
   ],
   "metadata":{
    "datalore":{
     "node_id":"BO7E75XAfAMC1i0aJiASE9",
     "type":"CODE",
     "hide_input_from_viewers":true,
     "hide_output_from_viewers":true
    }
   }
  },
  {
   "cell_type":"code",
   "source":[
    "means.unstack()"
   ],
   "execution_count":11,
   "outputs":[
    {
     "data":{
      "text\/html":[
       "<div>\n",
       "<style scoped>\n",
       "    .dataframe tbody tr th:only-of-type {\n",
       "        vertical-align: middle;\n",
       "    }\n",
       "\n",
       "    .dataframe tbody tr th {\n",
       "        vertical-align: top;\n",
       "    }\n",
       "\n",
       "    .dataframe thead th {\n",
       "        text-align: right;\n",
       "    }\n",
       "<\/style>\n",
       "<table border=\"1\" class=\"dataframe\">\n",
       "  <thead>\n",
       "    <tr style=\"text-align: right;\">\n",
       "      <th>klucz2<\/th>\n",
       "      <th>dwa<\/th>\n",
       "      <th>jeden<\/th>\n",
       "      <th>trzy<\/th>\n",
       "    <\/tr>\n",
       "    <tr>\n",
       "      <th>klucz1<\/th>\n",
       "      <th><\/th>\n",
       "      <th><\/th>\n",
       "      <th><\/th>\n",
       "    <\/tr>\n",
       "  <\/thead>\n",
       "  <tbody>\n",
       "    <tr>\n",
       "      <th>a<\/th>\n",
       "      <td>0.274992<\/td>\n",
       "      <td>1.180053<\/td>\n",
       "      <td>0.886429<\/td>\n",
       "    <\/tr>\n",
       "    <tr>\n",
       "      <th>b<\/th>\n",
       "      <td>0.228913<\/td>\n",
       "      <td>-1.296221<\/td>\n",
       "      <td>NaN<\/td>\n",
       "    <\/tr>\n",
       "  <\/tbody>\n",
       "<\/table>\n",
       "<\/div>"
      ]
     },
     "metadata":{
      
     },
     "output_type":"display_data"
    }
   ],
   "metadata":{
    "datalore":{
     "node_id":"LOcbJMVYgcNRMGUkMjwd0G",
     "type":"CODE",
     "hide_input_from_viewers":true,
     "hide_output_from_viewers":true
    }
   }
  },
  {
   "cell_type":"code",
   "source":[
    "woj = np.array(['mazowieckie','małopolskie','lubelskie','śląskie','pomorskie','lubuskie'])\n",
    "lata = np.array([2018,2018,2020,2018,2020,2019])\n",
    "df['dane1'].groupby([woj,lata]).mean()"
   ],
   "execution_count":12,
   "outputs":[
    {
     "data":{
      "text\/html":[
       "<pre>lubelskie    2020    0.274992\n",
       "lubuskie     2019    0.886429\n",
       "mazowieckie  2018    1.007189\n",
       "małopolskie  2018   -1.296221\n",
       "pomorskie    2020    1.352917\n",
       "śląskie      2018    0.228913\n",
       "Name: dane1, dtype: float64<\/pre>"
      ]
     },
     "metadata":{
      
     },
     "output_type":"display_data"
    }
   ],
   "metadata":{
    "datalore":{
     "node_id":"MBfqo9FJkzwEtxgNX0RbUI",
     "type":"CODE",
     "hide_input_from_viewers":true,
     "hide_output_from_viewers":true
    }
   }
  },
  {
   "cell_type":"code",
   "source":[
    "df['dane1'].groupby([woj]).mean()"
   ],
   "execution_count":14,
   "outputs":[
    {
     "data":{
      "text\/html":[
       "<pre>lubelskie      0.274992\n",
       "lubuskie       0.886429\n",
       "mazowieckie    1.007189\n",
       "małopolskie   -1.296221\n",
       "pomorskie      1.352917\n",
       "śląskie        0.228913\n",
       "Name: dane1, dtype: float64<\/pre>"
      ]
     },
     "metadata":{
      
     },
     "output_type":"display_data"
    }
   ],
   "metadata":{
    "datalore":{
     "node_id":"U7tTg8MCHa6PelQOtxQHAX",
     "type":"CODE",
     "hide_input_from_viewers":true,
     "hide_output_from_viewers":true
    }
   }
  },
  {
   "cell_type":"code",
   "source":[
    "df['dane1'].groupby([lata]).mean()"
   ],
   "execution_count":15,
   "outputs":[
    {
     "data":{
      "text\/html":[
       "<pre>2018   -0.020040\n",
       "2019    0.886429\n",
       "2020    0.813954\n",
       "Name: dane1, dtype: float64<\/pre>"
      ]
     },
     "metadata":{
      
     },
     "output_type":"display_data"
    }
   ],
   "metadata":{
    "datalore":{
     "node_id":"Z68JjjbC7sgYvICdCoyPYl",
     "type":"CODE",
     "hide_input_from_viewers":true,
     "hide_output_from_viewers":true
    }
   }
  },
  {
   "cell_type":"code",
   "source":[
    "#iteracje na grupach\n",
    "for name,group in df.groupby(\"klucz1\"):\n",
    "    print(name)\n",
    "    print(group)"
   ],
   "execution_count":16,
   "outputs":[
    {
     "name":"stdout",
     "text":[
      "a\n",
      "  klucz1 klucz2     dane1     dane2\n",
      "0      a  jeden  1.007189 -2.001637\n",
      "2      a    dwa  0.274992  1.669025\n",
      "4      a  jeden  1.352917 -0.539741\n",
      "5      a   trzy  0.886429  0.476985\n",
      "b\n",
      "  klucz1 klucz2     dane1     dane2\n",
      "1      b  jeden -1.296221 -0.371843\n",
      "3      b    dwa  0.228913 -0.438570\n"
     ],
     "output_type":"stream"
    }
   ],
   "metadata":{
    "datalore":{
     "node_id":"c546eQhU564t03ZUYBYVBk",
     "type":"CODE",
     "hide_input_from_viewers":true,
     "hide_output_from_viewers":true
    }
   }
  },
  {
   "cell_type":"code",
   "source":[
    "for (k1,k2), group in df.groupby(['klucz1','klucz2']):\n",
    "    print((k1,k2))\n",
    "    print(group)"
   ],
   "execution_count":17,
   "outputs":[
    {
     "name":"stdout",
     "text":[
      "('a', 'dwa')\n",
      "  klucz1 klucz2     dane1     dane2\n",
      "2      a    dwa  0.274992  1.669025\n",
      "('a', 'jeden')\n",
      "  klucz1 klucz2     dane1     dane2\n",
      "0      a  jeden  1.007189 -2.001637\n",
      "4      a  jeden  1.352917 -0.539741\n",
      "('a', 'trzy')\n",
      "  klucz1 klucz2     dane1     dane2\n",
      "5      a   trzy  0.886429  0.476985\n",
      "('b', 'dwa')\n",
      "  klucz1 klucz2     dane1    dane2\n",
      "3      b    dwa  0.228913 -0.43857\n",
      "('b', 'jeden')\n",
      "  klucz1 klucz2     dane1     dane2\n",
      "1      b  jeden -1.296221 -0.371843\n"
     ],
     "output_type":"stream"
    }
   ],
   "metadata":{
    "datalore":{
     "node_id":"nmBMxX8kjwSuRQPrWAaM5a",
     "type":"CODE",
     "hide_input_from_viewers":true,
     "hide_output_from_viewers":true
    }
   }
  },
  {
   "cell_type":"code",
   "source":[
    "pieces = dict(list(df.groupby('klucz1')))\n",
    "pieces['b']"
   ],
   "execution_count":18,
   "outputs":[
    {
     "data":{
      "text\/html":[
       "<div>\n",
       "<style scoped>\n",
       "    .dataframe tbody tr th:only-of-type {\n",
       "        vertical-align: middle;\n",
       "    }\n",
       "\n",
       "    .dataframe tbody tr th {\n",
       "        vertical-align: top;\n",
       "    }\n",
       "\n",
       "    .dataframe thead th {\n",
       "        text-align: right;\n",
       "    }\n",
       "<\/style>\n",
       "<table border=\"1\" class=\"dataframe\">\n",
       "  <thead>\n",
       "    <tr style=\"text-align: right;\">\n",
       "      <th><\/th>\n",
       "      <th>klucz1<\/th>\n",
       "      <th>klucz2<\/th>\n",
       "      <th>dane1<\/th>\n",
       "      <th>dane2<\/th>\n",
       "    <\/tr>\n",
       "  <\/thead>\n",
       "  <tbody>\n",
       "    <tr>\n",
       "      <th>1<\/th>\n",
       "      <td>b<\/td>\n",
       "      <td>jeden<\/td>\n",
       "      <td>-1.296221<\/td>\n",
       "      <td>-0.371843<\/td>\n",
       "    <\/tr>\n",
       "    <tr>\n",
       "      <th>3<\/th>\n",
       "      <td>b<\/td>\n",
       "      <td>dwa<\/td>\n",
       "      <td>0.228913<\/td>\n",
       "      <td>-0.438570<\/td>\n",
       "    <\/tr>\n",
       "  <\/tbody>\n",
       "<\/table>\n",
       "<\/div>"
      ]
     },
     "metadata":{
      
     },
     "output_type":"display_data"
    }
   ],
   "metadata":{
    "datalore":{
     "node_id":"X6MGYoGT6fL02jTUPXzHIM",
     "type":"CODE",
     "hide_input_from_viewers":true,
     "hide_output_from_viewers":true
    }
   }
  },
  {
   "cell_type":"code",
   "source":[
    "df.dtypes\n",
    "grouped = df.groupby(df.dtypes,axis=1)"
   ],
   "execution_count":19,
   "outputs":[
    
   ],
   "metadata":{
    "datalore":{
     "node_id":"Ugkf2RllFJM63uDrkHBCul",
     "type":"CODE",
     "hide_input_from_viewers":true,
     "hide_output_from_viewers":true
    }
   }
  },
  {
   "cell_type":"code",
   "source":[
    "for dtype,group in grouped:\n",
    "    print(dtype)\n",
    "    print(group)"
   ],
   "execution_count":20,
   "outputs":[
    {
     "name":"stdout",
     "text":[
      "float64\n",
      "      dane1     dane2\n",
      "0  1.007189 -2.001637\n",
      "1 -1.296221 -0.371843\n",
      "2  0.274992  1.669025\n",
      "3  0.228913 -0.438570\n",
      "4  1.352917 -0.539741\n",
      "5  0.886429  0.476985\n",
      "object\n",
      "  klucz1 klucz2\n",
      "0      a  jeden\n",
      "1      b  jeden\n",
      "2      a    dwa\n",
      "3      b    dwa\n",
      "4      a  jeden\n",
      "5      a   trzy\n"
     ],
     "output_type":"stream"
    }
   ],
   "metadata":{
    "datalore":{
     "node_id":"R95HmIazf7Ouep69vuSOYW",
     "type":"CODE",
     "hide_input_from_viewers":true,
     "hide_output_from_viewers":true
    }
   }
  },
  {
   "cell_type":"code",
   "source":[
    "#grupowanie przy użyciu słowników i serii\n",
    "\n",
    "people = pd.DataFrame(np.random.randn(5,5),\n",
    "                      columns=['a','b','c','d','e'],\n",
    "                      index=['Leon','Filip','Olga','Anna','Nadia'])\n",
    "\n",
    "people"
   ],
   "execution_count":22,
   "outputs":[
    {
     "data":{
      "text\/html":[
       "<div>\n",
       "<style scoped>\n",
       "    .dataframe tbody tr th:only-of-type {\n",
       "        vertical-align: middle;\n",
       "    }\n",
       "\n",
       "    .dataframe tbody tr th {\n",
       "        vertical-align: top;\n",
       "    }\n",
       "\n",
       "    .dataframe thead th {\n",
       "        text-align: right;\n",
       "    }\n",
       "<\/style>\n",
       "<table border=\"1\" class=\"dataframe\">\n",
       "  <thead>\n",
       "    <tr style=\"text-align: right;\">\n",
       "      <th><\/th>\n",
       "      <th>a<\/th>\n",
       "      <th>b<\/th>\n",
       "      <th>c<\/th>\n",
       "      <th>d<\/th>\n",
       "      <th>e<\/th>\n",
       "    <\/tr>\n",
       "  <\/thead>\n",
       "  <tbody>\n",
       "    <tr>\n",
       "      <th>Leon<\/th>\n",
       "      <td>-0.753887<\/td>\n",
       "      <td>0.331286<\/td>\n",
       "      <td>1.349742<\/td>\n",
       "      <td>0.069877<\/td>\n",
       "      <td>0.246674<\/td>\n",
       "    <\/tr>\n",
       "    <tr>\n",
       "      <th>Filip<\/th>\n",
       "      <td>-0.011862<\/td>\n",
       "      <td>1.004812<\/td>\n",
       "      <td>1.327195<\/td>\n",
       "      <td>-0.919262<\/td>\n",
       "      <td>-1.549106<\/td>\n",
       "    <\/tr>\n",
       "    <tr>\n",
       "      <th>Olga<\/th>\n",
       "      <td>0.022185<\/td>\n",
       "      <td>0.758363<\/td>\n",
       "      <td>-0.660524<\/td>\n",
       "      <td>0.862580<\/td>\n",
       "      <td>-0.010032<\/td>\n",
       "    <\/tr>\n",
       "    <tr>\n",
       "      <th>Anna<\/th>\n",
       "      <td>0.050009<\/td>\n",
       "      <td>0.670216<\/td>\n",
       "      <td>0.852965<\/td>\n",
       "      <td>-0.955869<\/td>\n",
       "      <td>-0.023493<\/td>\n",
       "    <\/tr>\n",
       "    <tr>\n",
       "      <th>Nadia<\/th>\n",
       "      <td>-2.304234<\/td>\n",
       "      <td>-0.652469<\/td>\n",
       "      <td>-1.218302<\/td>\n",
       "      <td>-1.332610<\/td>\n",
       "      <td>1.074623<\/td>\n",
       "    <\/tr>\n",
       "  <\/tbody>\n",
       "<\/table>\n",
       "<\/div>"
      ]
     },
     "metadata":{
      
     },
     "output_type":"display_data"
    }
   ],
   "metadata":{
    "datalore":{
     "node_id":"wJ7oqioJrJDucRLE8amnwn",
     "type":"CODE",
     "hide_input_from_viewers":true,
     "hide_output_from_viewers":true
    }
   }
  }
 ],
 "metadata":{
  "kernelspec":{
   "display_name":"Python",
   "language":"python",
   "name":"python"
  },
  "datalore":{
   "computation_mode":"JUPYTER",
   "package_manager":"pip",
   "base_environment":"default",
   "packages":[
    
   ],
   "report_row_ids":[
    
   ],
   "version":3
  }
 },
 "nbformat":4,
 "nbformat_minor":4
}