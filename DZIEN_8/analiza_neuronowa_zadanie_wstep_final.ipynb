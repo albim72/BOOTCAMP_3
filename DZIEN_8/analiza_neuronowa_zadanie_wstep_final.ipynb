{
 "cells":[
  {
   "cell_type":"code",
   "source":[
    "import pandas as pd\n",
    "import numpy as np\n",
    "import tensorflow as tf\n",
    "from sklearn.model_selection import train_test_split\n",
    "from sklearn.preprocessing import MinMaxScaler\n",
    "import requests\n",
    "from io import StringIO"
   ],
   "execution_count":1,
   "outputs":[
    
   ],
   "metadata":{
    "datalore":{
     "node_id":"I21gobsbBcf2fINXkoC8Ax",
     "type":"CODE",
     "hide_input_from_viewers":true,
     "hide_output_from_viewers":true
    }
   }
  },
  {
   "cell_type":"code",
   "source":[
    "# Pobierz dane z UCI Machine Learning Repository\n",
    "url = \"https:\/\/archive.ics.uci.edu\/ml\/machine-learning-databases\/auto-mpg\/auto-mpg.data\"\n",
    "column_names = ['mpg', 'cylinders', 'displacement', 'horsepower', 'weight', 'acceleration', 'model_year', 'origin', 'car_name']\n",
    "response = requests.get(url)\n",
    "data = pd.read_csv(StringIO(response.text), delim_whitespace=True, names=column_names)"
   ],
   "execution_count":2,
   "outputs":[
    
   ],
   "metadata":{
    "datalore":{
     "node_id":"5ADGxfZFyR6uB38eFknW7N",
     "type":"CODE",
     "hide_input_from_viewers":true,
     "hide_output_from_viewers":true
    }
   }
  },
  {
   "cell_type":"code",
   "source":[
    "# Usuń kolumnę 'car_name', ponieważ nie będzie używana w analizie\n",
    "data.drop('car_name', axis=1, inplace=True)\n",
    "\n",
    "# Zastąp brakujące wartości znakiem zapytania\n",
    "data.replace('?', np.nan, inplace=True)\n",
    "\n",
    "# Konwertuj kolumnę 'horsepower' na typ liczbowy\n",
    "data['horsepower'] = pd.to_numeric(data['horsepower'])\n",
    "\n",
    "# Usuń wiersze z brakującymi wartościami\n",
    "data.dropna(inplace=True)"
   ],
   "execution_count":3,
   "outputs":[
    
   ],
   "metadata":{
    "datalore":{
     "node_id":"ZuGrnXXuVAezq2FrFL3amv",
     "type":"CODE",
     "hide_input_from_viewers":true,
     "hide_output_from_viewers":true
    }
   }
  },
  {
   "cell_type":"code",
   "source":[
    "# Podziel dane na funkcje (features) i etykiety (labels)\n",
    "X = data.drop('mpg', axis=1).values\n",
    "y = data['mpg'].values\n",
    "\n",
    "# Podziel dane na zbiory treningowy i testowy\n",
    "X_train, X_test, y_train, y_test = train_test_split(X, y, test_size=0.2, random_state=42)"
   ],
   "execution_count":4,
   "outputs":[
    
   ],
   "metadata":{
    "datalore":{
     "node_id":"WxoNbWqwdPJGFYasnCrKUt",
     "type":"CODE",
     "hide_input_from_viewers":true,
     "hide_output_from_viewers":true
    }
   }
  },
  {
   "cell_type":"code",
   "source":[
    "# Normalizacja danych\n",
    "scaler = MinMaxScaler()\n",
    "X_train_normalized = scaler.fit_transform(X_train)\n",
    "X_test_normalized = scaler.transform(X_test)"
   ],
   "execution_count":5,
   "outputs":[
    
   ],
   "metadata":{
    "datalore":{
     "node_id":"rYPvuPqjGtYTRn7xRN1yev",
     "type":"CODE",
     "hide_input_from_viewers":true,
     "hide_output_from_viewers":true
    }
   }
  },
  {
   "cell_type":"code",
   "source":[
    "# Definicja modelu sieci neuronowej\n",
    "model = tf.keras.Sequential([\n",
    "    tf.keras.layers.Dense(64, activation='relu', input_shape=(X_train_normalized.shape[1],)),\n",
    "    tf.keras.layers.Dense(32, activation='relu'),\n",
    "    tf.keras.layers.Dense(1)\n",
    "])\n",
    "\n",
    "# Kompilacja modelu\n",
    "model.compile(optimizer='adam', loss='mean_squared_error')"
   ],
   "execution_count":9,
   "outputs":[
    
   ],
   "metadata":{
    "datalore":{
     "node_id":"NU6brJ2v103LH2aa7vhupw",
     "type":"CODE",
     "hide_input_from_viewers":true,
     "hide_output_from_viewers":true
    }
   }
  },
  {
   "cell_type":"code",
   "source":[
    "history = model.fit(X_train_normalized, y_train, epochs=50, batch_size=32, validation_split=0.2, verbose=0)"
   ],
   "execution_count":10,
   "outputs":[
    
   ],
   "metadata":{
    "datalore":{
     "node_id":"B6E9BpKHsRPyDHyd3eIyCj",
     "type":"CODE",
     "hide_input_from_viewers":true,
     "hide_output_from_viewers":true
    }
   }
  },
  {
   "cell_type":"code",
   "source":[
    "loss = model.evaluate(X_test_normalized, y_test)\n",
    "print(\"Test Loss:\", loss)"
   ],
   "execution_count":11,
   "outputs":[
    {
     "name":"stdout",
     "text":[
      "\r1\/3 [=========>....................] - ETA: 0s - loss: 19.2978\b\b\b\b\b\b\b\b\b\b\b\b\b\b\b\b\b\b\b\b\b\b\b\b\b\b\b\b\b\b\b\b\b\b\b\b\b\b\b\b\b\b\b\b\b\b\b\b\b\b\b\b\b\b\b\b\b\b\b\b\b\b\r3\/3 [==============================] - 0s 2ms\/step - loss: 19.1607\n",
      "Test Loss: 19.16066551208496\n"
     ],
     "output_type":"stream"
    }
   ],
   "metadata":{
    "datalore":{
     "node_id":"qSOBU9Z5oC68GThZzfD6P6",
     "type":"CODE",
     "hide_input_from_viewers":true,
     "hide_output_from_viewers":true
    }
   }
  },
  {
   "cell_type":"code",
   "source":[
    "# Wyświetlenie wykresu\n",
    "import matplotlib.pyplot as plt\n",
    "\n",
    "plt.plot(history.history['loss'], label='Loss (training data)')\n",
    "plt.plot(history.history['val_loss'], label='Loss (validation data)')\n",
    "plt.title('Model loss')\n",
    "plt.ylabel('Loss')\n",
    "plt.xlabel('Epoch')\n",
    "plt.legend(loc=\"upper right\")\n",
    "plt.show()"
   ],
   "execution_count":13,
   "outputs":[
    {
     "data":{
      "image\/png":"[encoded data removed]"
     },
     "metadata":{
      "image\/png":{
       
      }
     },
     "output_type":"display_data"
    }
   ],
   "metadata":{
    "datalore":{
     "node_id":"Kh9gEJRg3srKkfinEr1yjS",
     "type":"CODE",
     "hide_input_from_viewers":true,
     "hide_output_from_viewers":true
    }
   }
  },
  {
   "cell_type":"code",
   "source":[
    "# Wykonaj predykcję na zbiorze testowym\n",
    "predictions = model.predict(X_test_normalized)\n",
    "\n",
    "# Wyświetl kilka rzeczywistych wartości mpg oraz przewidywanych wartości\n",
    "for i in range(10):\n",
    "    print(\"Rzeczywista wartość:\", y_test[i], \"\\tPrzewidywana wartość:\", predictions[i][0])"
   ],
   "execution_count":14,
   "outputs":[
    {
     "name":"stdout",
     "text":[
      "\r1\/3 [=========>....................] - ETA: 0s\b\b\b\b\b\b\b\b\b\b\b\b\b\b\b\b\b\b\b\b\b\b\b\b\b\b\b\b\b\b\b\b\b\b\b\b\b\b\b\b\b\b\b\b\b\b\r3\/3 [==============================] - 0s 2ms\/step\n",
      "Rzeczywista wartość: 26.0 \tPrzewidywana wartość: 24.030142\n",
      "Rzeczywista wartość: 21.6 \tPrzewidywana wartość: 27.930601\n",
      "Rzeczywista wartość: 36.1 \tPrzewidywana wartość: 33.22812\n",
      "Rzeczywista wartość: 26.0 \tPrzewidywana wartość: 21.09089\n",
      "Rzeczywista wartość: 27.0 \tPrzewidywana wartość: 26.919214\n",
      "Rzeczywista wartość: 28.0 \tPrzewidywana wartość: 31.028013\n",
      "Rzeczywista wartość: 13.0 \tPrzewidywana wartość: 12.069141\n",
      "Rzeczywista wartość: 26.0 \tPrzewidywana wartość: 33.212917\n",
      "Rzeczywista wartość: 19.0 \tPrzewidywana wartość: 18.33695\n",
      "Rzeczywista wartość: 29.0 \tPrzewidywana wartość: 26.555609\n"
     ],
     "output_type":"stream"
    }
   ],
   "metadata":{
    "datalore":{
     "node_id":"kDSXIb8iR4Stld4s1kt8fU",
     "type":"CODE",
     "hide_input_from_viewers":true,
     "hide_output_from_viewers":true
    }
   }
  },
  {
   "cell_type":"code",
   "source":[
    "# Przygotuj dane do wykresu\n",
    "plt.figure(figsize=(10, 6))\n",
    "plt.scatter(y_test, predictions, color='blue', label='Predictions')\n",
    "plt.plot([min(y_test), max(y_test)], [min(y_test), max(y_test)], color='red', linestyle='--', label='Ideal Predictions')\n",
    "plt.title('Actual vs. Predicted MPG')\n",
    "plt.xlabel('Actual MPG')\n",
    "plt.ylabel('Predicted MPG')\n",
    "plt.legend()\n",
    "plt.show()"
   ],
   "execution_count":15,
   "outputs":[
    {
     "data":{
      "image\/png":"[encoded data removed]"
     },
     "metadata":{
      "image\/png":{
       
      }
     },
     "output_type":"display_data"
    }
   ],
   "metadata":{
    "datalore":{
     "node_id":"oY44QT9yaiQgoxyjXrt4tp",
     "type":"CODE",
     "hide_input_from_viewers":true,
     "hide_output_from_viewers":true
    }
   }
  }
 ],
 "metadata":{
  "kernelspec":{
   "display_name":"Python",
   "language":"python",
   "name":"python"
  },
  "datalore":{
   "computation_mode":"JUPYTER",
   "package_manager":"pip",
   "base_environment":"default",
   "packages":[
    
   ],
   "report_row_ids":[
    
   ],
   "version":3
  }
 },
 "nbformat":4,
 "nbformat_minor":4
}