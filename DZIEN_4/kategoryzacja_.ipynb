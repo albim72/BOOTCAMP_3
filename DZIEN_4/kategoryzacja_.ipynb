{
 "cells":[
  {
   "cell_type":"code",
   "source":[
    "import numpy as np\n",
    "import pandas as pd"
   ],
   "execution_count":1,
   "outputs":[
    
   ],
   "metadata":{
    "datalore":{
     "node_id":"HCTIyw4RIZGLRbznjWRhyN",
     "type":"CODE",
     "hide_input_from_viewers":true,
     "hide_output_from_viewers":true
    }
   }
  },
  {
   "cell_type":"code",
   "source":[
    "df = pd.DataFrame({\n",
    "    \"id\":[1,2,3,4,5,6,7,8],\n",
    "    \"wiersz_opisu\":[\"halo\",\"jakie?\",\"ping\",\"halo\",\"ping\",\"halo\",\"paleta\",\"oko\"]\n",
    "    \n",
    "})"
   ],
   "execution_count":11,
   "outputs":[
    
   ],
   "metadata":{
    "datalore":{
     "node_id":"SDKdHppjxly3IL0jDFIX9M",
     "type":"CODE",
     "hide_input_from_viewers":true,
     "hide_output_from_viewers":true
    }
   }
  },
  {
   "cell_type":"code",
   "source":[
    "df[\"wiersz\"] = df[\"wiersz_opisu\"].astype(\"category\")\n",
    "print(df[\"wiersz\"])"
   ],
   "execution_count":12,
   "outputs":[
    {
     "name":"stdout",
     "text":[
      "0      halo\n",
      "1    jakie?\n",
      "2      ping\n",
      "3      halo\n",
      "4      ping\n",
      "5      halo\n",
      "6    paleta\n",
      "7       oko\n",
      "Name: wiersz, dtype: category\n",
      "Categories (5, object): ['halo', 'jakie?', 'oko', 'paleta', 'ping']\n"
     ],
     "output_type":"stream"
    }
   ],
   "metadata":{
    "datalore":{
     "node_id":"6VU5cL9eZEsionSIxv88U8",
     "type":"CODE",
     "hide_input_from_viewers":true,
     "hide_output_from_viewers":true
    }
   }
  },
  {
   "cell_type":"code",
   "source":[
    "df[\"wiersz\"].cat.categories = [\"totalna klapa\",\"tak sobie\",\"dobrze\",\"znakomicie\",\"poza ligą\"]\n",
    "print(df[\"wiersz\"])"
   ],
   "execution_count":14,
   "outputs":[
    {
     "name":"stdout",
     "text":[
      "0    totalna klapa\n",
      "1        tak sobie\n",
      "2        poza ligą\n",
      "3    totalna klapa\n",
      "4        poza ligą\n",
      "5    totalna klapa\n",
      "6       znakomicie\n",
      "7           dobrze\n",
      "Name: wiersz, dtype: category\n",
      "Categories (5, object): ['totalna klapa', 'tak sobie', 'dobrze', 'znakomicie', 'poza ligą']\n"
     ],
     "output_type":"stream"
    },
    {
     "name":"stderr",
     "text":[
      "<ipython-input-14-8b82d17f790b>:1: FutureWarning: Setting categories in-place is deprecated and will raise in a future version. Use rename_categories instead.\n",
      "  df[\"wiersz\"].cat.categories = [\"totalna klapa\",\"tak sobie\",\"dobrze\",\"znakomicie\",\"poza ligą\"]\n"
     ],
     "output_type":"stream"
    }
   ],
   "metadata":{
    "datalore":{
     "node_id":"hDtOzlUJ2PHvdFhkbezDLf",
     "type":"CODE",
     "hide_input_from_viewers":true,
     "hide_output_from_viewers":true
    }
   }
  },
  {
   "cell_type":"code",
   "source":[
    "df.sort_values(by='wiersz')"
   ],
   "execution_count":15,
   "outputs":[
    {
     "data":{
      "text\/html":[
       "<div>\n",
       "<style scoped>\n",
       "    .dataframe tbody tr th:only-of-type {\n",
       "        vertical-align: middle;\n",
       "    }\n",
       "\n",
       "    .dataframe tbody tr th {\n",
       "        vertical-align: top;\n",
       "    }\n",
       "\n",
       "    .dataframe thead th {\n",
       "        text-align: right;\n",
       "    }\n",
       "<\/style>\n",
       "<table border=\"1\" class=\"dataframe\">\n",
       "  <thead>\n",
       "    <tr style=\"text-align: right;\">\n",
       "      <th><\/th>\n",
       "      <th>id<\/th>\n",
       "      <th>wiersz_opisu<\/th>\n",
       "      <th>wiersz<\/th>\n",
       "    <\/tr>\n",
       "  <\/thead>\n",
       "  <tbody>\n",
       "    <tr>\n",
       "      <th>0<\/th>\n",
       "      <td>1<\/td>\n",
       "      <td>halo<\/td>\n",
       "      <td>totalna klapa<\/td>\n",
       "    <\/tr>\n",
       "    <tr>\n",
       "      <th>3<\/th>\n",
       "      <td>4<\/td>\n",
       "      <td>halo<\/td>\n",
       "      <td>totalna klapa<\/td>\n",
       "    <\/tr>\n",
       "    <tr>\n",
       "      <th>5<\/th>\n",
       "      <td>6<\/td>\n",
       "      <td>halo<\/td>\n",
       "      <td>totalna klapa<\/td>\n",
       "    <\/tr>\n",
       "    <tr>\n",
       "      <th>1<\/th>\n",
       "      <td>2<\/td>\n",
       "      <td>jakie?<\/td>\n",
       "      <td>tak sobie<\/td>\n",
       "    <\/tr>\n",
       "    <tr>\n",
       "      <th>7<\/th>\n",
       "      <td>8<\/td>\n",
       "      <td>oko<\/td>\n",
       "      <td>dobrze<\/td>\n",
       "    <\/tr>\n",
       "    <tr>\n",
       "      <th>6<\/th>\n",
       "      <td>7<\/td>\n",
       "      <td>paleta<\/td>\n",
       "      <td>znakomicie<\/td>\n",
       "    <\/tr>\n",
       "    <tr>\n",
       "      <th>2<\/th>\n",
       "      <td>3<\/td>\n",
       "      <td>ping<\/td>\n",
       "      <td>poza ligą<\/td>\n",
       "    <\/tr>\n",
       "    <tr>\n",
       "      <th>4<\/th>\n",
       "      <td>5<\/td>\n",
       "      <td>ping<\/td>\n",
       "      <td>poza ligą<\/td>\n",
       "    <\/tr>\n",
       "  <\/tbody>\n",
       "<\/table>\n",
       "<\/div>"
      ]
     },
     "metadata":{
      
     },
     "output_type":"display_data"
    }
   ],
   "metadata":{
    "datalore":{
     "node_id":"7sWr4TNju2YJVkU7YfWqnG",
     "type":"CODE",
     "hide_input_from_viewers":true,
     "hide_output_from_viewers":true
    }
   }
  },
  {
   "cell_type":"code",
   "source":[
    "df.groupby(\"wiersz\").size()"
   ],
   "execution_count":16,
   "outputs":[
    {
     "data":{
      "text\/html":[
       "<pre>wiersz\n",
       "totalna klapa    3\n",
       "tak sobie        1\n",
       "dobrze           1\n",
       "znakomicie       1\n",
       "poza ligą        2\n",
       "dtype: int64<\/pre>"
      ]
     },
     "metadata":{
      
     },
     "output_type":"display_data"
    }
   ],
   "metadata":{
    "datalore":{
     "node_id":"L4wtHmYFDUh9dvzVM6nokM",
     "type":"CODE",
     "hide_input_from_viewers":true,
     "hide_output_from_viewers":true
    }
   }
  }
 ],
 "metadata":{
  "kernelspec":{
   "display_name":"Python",
   "language":"python",
   "name":"python"
  },
  "datalore":{
   "computation_mode":"JUPYTER",
   "package_manager":"pip",
   "base_environment":"default",
   "packages":[
    
   ],
   "report_row_ids":[
    
   ],
   "version":3
  }
 },
 "nbformat":4,
 "nbformat_minor":4
}