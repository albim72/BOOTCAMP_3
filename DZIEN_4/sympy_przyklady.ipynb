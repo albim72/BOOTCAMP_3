{
 "cells":[
  {
   "cell_type":"code",
   "source":[
    "from sympy import *\n",
    "import numpy as np\n",
    "import matplotlib.pyplot as plt"
   ],
   "execution_count":36,
   "outputs":[
    
   ],
   "metadata":{
    "datalore":{
     "node_id":"xymKfoxzmyLtbheF91ur0c",
     "type":"CODE",
     "hide_input_from_viewers":true,
     "hide_output_from_viewers":true
    }
   }
  },
  {
   "cell_type":"code",
   "source":[
    "#rozwiązywanie równań\n",
    "\n",
    "#definiowanie symboli\n",
    "x,y = symbols('x y')\n",
    "\n",
    "#definiowanie równanie\n",
    "\n",
    "eq1  = Eq(x+y,5)\n",
    "eq2  = Eq(2*x-y,3)\n",
    "\n",
    "#rozwiązanie\n",
    "solution = solve((eq1,eq2),(x,y))\n",
    "\n",
    "print(f'rozwiązanie: x={solution[x]}, y={solution[y]}')"
   ],
   "execution_count":37,
   "outputs":[
    {
     "name":"stdout",
     "text":[
      "rozwiązanie: x=8\/3, y=7\/3\n"
     ],
     "output_type":"stream"
    }
   ],
   "metadata":{
    "datalore":{
     "node_id":"71etqxiXILtFh5NALiDvYq",
     "type":"CODE",
     "hide_input_from_viewers":true,
     "hide_output_from_viewers":true
    }
   }
  },
  {
   "cell_type":"code",
   "source":[
    "#całkowanie\n",
    "\n",
    "#definicja symbolu\n",
    "x = symbols('x')\n",
    "\n",
    "#całkowanie funkcji sin(x)\n",
    "result = integrate(2*sin(x+pi)+exp(x),x)\n",
    "print(f'całka z funkcji sin(x): {result}')"
   ],
   "execution_count":38,
   "outputs":[
    {
     "name":"stdout",
     "text":[
      "całka z funkcji sin(x): exp(x) + 2*cos(x)\n"
     ],
     "output_type":"stream"
    }
   ],
   "metadata":{
    "datalore":{
     "node_id":"DXJFHjWE2P3siTKl5wK2eL",
     "type":"CODE",
     "hide_input_from_viewers":true,
     "hide_output_from_viewers":true
    }
   }
  },
  {
   "cell_type":"code",
   "source":[
    "#tworzenie wykresów\n",
    "\n",
    "x = symbols('x')\n",
    "\n",
    "#definicja funkcji\n",
    "func = x**2-3*x+2\n",
    "\n",
    "#konwersja funkcji na funkcję numeryczną\n",
    "f= lambdify(x,func,'numpy')\n",
    "\n",
    "#przygotowanie danych\n",
    "x_vals = np.linspace(-5,5,100)\n",
    "y_vals = f(x_vals)\n",
    "\n",
    "#wykreślenie funkcji\n",
    "plt.plot(x_vals,y_vals)\n",
    "plt.xlabel('x')\n",
    "plt.ylabel('f(x)')\n",
    "plt.title(r'wykres funkcji $f(x) = x^2 - 3x + 2$')\n",
    "plt.grid(True)\n",
    "plt.show()"
   ],
   "execution_count":39,
   "outputs":[
    {
     "data":{
      "image\/png":"[encoded data removed]"
     },
     "metadata":{
      "image\/png":{
       
      }
     },
     "output_type":"display_data"
    }
   ],
   "metadata":{
    "datalore":{
     "node_id":"ngUeqmhub6Bym6cgEocDZ2",
     "type":"CODE",
     "hide_input_from_viewers":true,
     "hide_output_from_viewers":true
    }
   }
  },
  {
   "cell_type":"code",
   "source":[
    "expr = x**y\n",
    "expr"
   ],
   "execution_count":40,
   "outputs":[
    {
     "data":{
      "text\/latex":[
       "$\\displaystyle x^{y}$"
      ]
     },
     "metadata":{
      
     },
     "output_type":"display_data"
    }
   ],
   "metadata":{
    "datalore":{
     "node_id":"lrghPabH0qKQR4An44w4zI",
     "type":"CODE",
     "hide_input_from_viewers":true,
     "hide_output_from_viewers":true
    }
   }
  },
  {
   "cell_type":"code",
   "source":[
    "expr = expr.subs(y,x**y)\n",
    "expr"
   ],
   "execution_count":41,
   "outputs":[
    {
     "data":{
      "text\/latex":[
       "$\\displaystyle x^{x^{y}}$"
      ]
     },
     "metadata":{
      
     },
     "output_type":"display_data"
    }
   ],
   "metadata":{
    "datalore":{
     "node_id":"Vij6FfJvOSfxOdAPvtEi7k",
     "type":"CODE",
     "hide_input_from_viewers":true,
     "hide_output_from_viewers":true
    }
   }
  },
  {
   "cell_type":"code",
   "source":[
    "expr = sin(2*x)+cos(2*x)\n",
    "expand_trig(expr)"
   ],
   "execution_count":42,
   "outputs":[
    {
     "data":{
      "text\/latex":[
       "$\\displaystyle 2 \\sin{\\left(x \\right)} \\cos{\\left(x \\right)} + 2 \\cos^{2}{\\left(x \\right)} - 1$"
      ]
     },
     "metadata":{
      
     },
     "output_type":"display_data"
    }
   ],
   "metadata":{
    "datalore":{
     "node_id":"jjDAdxwJHKrmck8JY2rc2N",
     "type":"CODE",
     "hide_input_from_viewers":true,
     "hide_output_from_viewers":true
    }
   }
  },
  {
   "cell_type":"code",
   "source":[
    "expr = sqrt(8)\n",
    "expr"
   ],
   "execution_count":43,
   "outputs":[
    {
     "data":{
      "text\/latex":[
       "$\\displaystyle 2 \\sqrt{2}$"
      ]
     },
     "metadata":{
      
     },
     "output_type":"display_data"
    }
   ],
   "metadata":{
    "datalore":{
     "node_id":"EWFL5nBvAzQ93b9ori6ZNN",
     "type":"CODE",
     "hide_input_from_viewers":true,
     "hide_output_from_viewers":true
    }
   }
  },
  {
   "cell_type":"code",
   "source":[
    "expr.evalf()"
   ],
   "execution_count":44,
   "outputs":[
    {
     "data":{
      "text\/latex":[
       "$\\displaystyle 2.82842712474619$"
      ]
     },
     "metadata":{
      
     },
     "output_type":"display_data"
    }
   ],
   "metadata":{
    "datalore":{
     "node_id":"7BlfqKPxITf1o86w4ElCml",
     "type":"CODE",
     "hide_input_from_viewers":true,
     "hide_output_from_viewers":true
    }
   }
  },
  {
   "cell_type":"code",
   "source":[
    "pi.evalf(100)"
   ],
   "execution_count":45,
   "outputs":[
    {
     "data":{
      "text\/latex":[
       "$\\displaystyle 3.141592653589793238462643383279502884197169399375105820974944592307816406286208998628034825342117068$"
      ]
     },
     "metadata":{
      
     },
     "output_type":"display_data"
    }
   ],
   "metadata":{
    "datalore":{
     "node_id":"qE8kIS1vuJ11e9eIWHlr4A",
     "type":"CODE",
     "hide_input_from_viewers":true,
     "hide_output_from_viewers":true
    }
   }
  },
  {
   "cell_type":"code",
   "source":[
    "a = np.arange(10)\n",
    "a"
   ],
   "execution_count":46,
   "outputs":[
    {
     "data":{
      "text\/html":[
       "<pre>array([0, 1, 2, 3, 4, 5, 6, 7, 8, 9])<\/pre>"
      ]
     },
     "metadata":{
      
     },
     "output_type":"display_data"
    }
   ],
   "metadata":{
    "datalore":{
     "node_id":"ZhaBYY3QS5lDLU6X2LzeBd",
     "type":"CODE",
     "hide_input_from_viewers":true,
     "hide_output_from_viewers":true
    }
   }
  },
  {
   "cell_type":"code",
   "source":[
    "expr = 2*sin(x) - log(4*x)\n",
    "f = lambdify(x,expr,\"numpy\")\n",
    "f(a)"
   ],
   "execution_count":47,
   "outputs":[
    {
     "name":"stderr",
     "text":[
      "<lambdifygenerated-4>:2: RuntimeWarning: divide by zero encountered in log\n",
      "  return -log(4*x) + 2*sin(x)\n"
     ],
     "output_type":"stream"
    },
    {
     "data":{
      "text\/html":[
       "<pre>array([        inf,  0.29664761, -0.26084669, -2.20266663, -4.28619371,\n",
       "       -4.91358082, -3.73688483, -2.01823131, -1.48701941, -2.75928197])<\/pre>"
      ]
     },
     "metadata":{
      
     },
     "output_type":"display_data"
    }
   ],
   "metadata":{
    "datalore":{
     "node_id":"AQMiMi5UmkK7OTYqAeOMem",
     "type":"CODE",
     "hide_input_from_viewers":true,
     "hide_output_from_viewers":true
    }
   }
  },
  {
   "cell_type":"code",
   "source":[
    "expand((x+1)**2)"
   ],
   "execution_count":48,
   "outputs":[
    {
     "data":{
      "text\/latex":[
       "$\\displaystyle x^{2} + 2 x + 1$"
      ]
     },
     "metadata":{
      
     },
     "output_type":"display_data"
    }
   ],
   "metadata":{
    "datalore":{
     "node_id":"wIWXuo7sViESIC25DzYkP6",
     "type":"CODE",
     "hide_input_from_viewers":true,
     "hide_output_from_viewers":true
    }
   }
  },
  {
   "cell_type":"code",
   "source":[
    "factor(x**3-x**2+x-1)"
   ],
   "execution_count":49,
   "outputs":[
    {
     "data":{
      "text\/latex":[
       "$\\displaystyle \\left(x - 1\\right) \\left(x^{2} + 1\\right)$"
      ]
     },
     "metadata":{
      
     },
     "output_type":"display_data"
    }
   ],
   "metadata":{
    "datalore":{
     "node_id":"leZp3y7fU0M9oOo3cgmK2P",
     "type":"CODE",
     "hide_input_from_viewers":true,
     "hide_output_from_viewers":true
    }
   }
  },
  {
   "cell_type":"code",
   "source":[
    "z = symbols('z')\n",
    "factor(x**2*z+4*x*y*z+4*y**2*z)"
   ],
   "execution_count":50,
   "outputs":[
    {
     "data":{
      "text\/latex":[
       "$\\displaystyle z \\left(x + 2 y\\right)^{2}$"
      ]
     },
     "metadata":{
      
     },
     "output_type":"display_data"
    }
   ],
   "metadata":{
    "datalore":{
     "node_id":"yi2gtPIEg3rWkysXnG8Q80",
     "type":"CODE",
     "hide_input_from_viewers":true,
     "hide_output_from_viewers":true
    }
   }
  },
  {
   "cell_type":"code",
   "source":[
    "diff(x**4,x,x,x)"
   ],
   "execution_count":51,
   "outputs":[
    {
     "data":{
      "text\/latex":[
       "$\\displaystyle 24 x$"
      ]
     },
     "metadata":{
      
     },
     "output_type":"display_data"
    }
   ],
   "metadata":{
    "datalore":{
     "node_id":"n4jECil9EZmyHLh2n5aM1m",
     "type":"CODE",
     "hide_input_from_viewers":true,
     "hide_output_from_viewers":true
    }
   }
  },
  {
   "cell_type":"code",
   "source":[
    "integrate(exp(-x),(x,0,oo))"
   ],
   "execution_count":52,
   "outputs":[
    {
     "data":{
      "text\/latex":[
       "$\\displaystyle 1$"
      ]
     },
     "metadata":{
      
     },
     "output_type":"display_data"
    }
   ],
   "metadata":{
    "datalore":{
     "node_id":"2mOyuNIze1yirayOR7W7CC",
     "type":"CODE",
     "hide_input_from_viewers":true,
     "hide_output_from_viewers":true
    }
   }
  },
  {
   "cell_type":"code",
   "source":[
    "integrate(exp(-x**2 - y**2),(x,-oo,oo),(y, -oo,oo))"
   ],
   "execution_count":53,
   "outputs":[
    {
     "data":{
      "text\/latex":[
       "$\\displaystyle \\pi$"
      ]
     },
     "metadata":{
      
     },
     "output_type":"display_data"
    }
   ],
   "metadata":{
    "datalore":{
     "node_id":"0vIYz2JwVVyuNZPqdgcKKP",
     "type":"CODE",
     "hide_input_from_viewers":true,
     "hide_output_from_viewers":true
    }
   }
  },
  {
   "cell_type":"code",
   "source":[
    "#pochodne cząstkowe\n",
    "\n",
    "x,y = symbols('x y')\n",
    "f = 3*cos(x)**2 + 1.5*sin(x)**2"
   ],
   "execution_count":54,
   "outputs":[
    
   ],
   "metadata":{
    "datalore":{
     "node_id":"tde3y08aNqRT1CtHd1yYPi",
     "type":"CODE",
     "hide_input_from_viewers":true,
     "hide_output_from_viewers":true
    }
   }
  },
  {
   "cell_type":"code",
   "source":[
    "#obliczanie pochodnych cząstkowych\n",
    "df_dx = diff(f,x)\n",
    "df_dy = diff(f,y)"
   ],
   "execution_count":55,
   "outputs":[
    
   ],
   "metadata":{
    "datalore":{
     "node_id":"hYWQWtXHLev33uI2yLicFC",
     "type":"CODE",
     "hide_input_from_viewers":true,
     "hide_output_from_viewers":true
    }
   }
  },
  {
   "cell_type":"code",
   "source":[
    "#obliczenie pochodnych drugiego rzędu\n",
    "d2f_dx2 = diff(df_dx,x)\n",
    "d2f_dy2 = diff(df_dy,y)\n",
    "d2f_dxdy = diff(df_dx,y)"
   ],
   "execution_count":56,
   "outputs":[
    
   ],
   "metadata":{
    "datalore":{
     "node_id":"ocOY0YFOu8wClUZVHV2IVY",
     "type":"CODE",
     "hide_input_from_viewers":true,
     "hide_output_from_viewers":true
    }
   }
  },
  {
   "cell_type":"code",
   "source":[
    "#rozwiązanie równania\n",
    "solution = solve([d2f_dx2,d2f_dy2],(x,y))"
   ],
   "execution_count":57,
   "outputs":[
    
   ],
   "metadata":{
    "datalore":{
     "node_id":"a5f3smJaNq87cOCTWIjRI1",
     "type":"CODE",
     "hide_input_from_viewers":true,
     "hide_output_from_viewers":true
    }
   }
  },
  {
   "cell_type":"code",
   "source":[
    "print(f'pochodna cząstkowa po x: {df_dx}')\n",
    "print(f'pochodna cząstkowa po y: {df_dy}')\n",
    "print(f'pochodna drugiego rzędu po x: {d2f_dx2}')\n",
    "print(f'pochodna drugiego rzędu po y: {d2f_dy2}')\n",
    "print(f'pochodna mieszana po x i y: {d2f_dxdy}')\n",
    "print(f'rozwiązanie równania dla drugich pochodnych: {solution}')"
   ],
   "execution_count":58,
   "outputs":[
    {
     "name":"stdout",
     "text":[
      "pochodna cząstkowa po x: -3.0*sin(x)*cos(x)\n",
      "pochodna cząstkowa po y: 0\n",
      "pochodna drugiego rzędu po x: 3.0*sin(x)**2 - 3.0*cos(x)**2\n",
      "pochodna drugiego rzędu po y: 0\n",
      "pochodna mieszana po x i y: 0\n",
      "rozwiązanie równania dla drugich pochodnych: [(-0.785398163397448, y), (0.785398163397448, y)]\n"
     ],
     "output_type":"stream"
    }
   ],
   "metadata":{
    "datalore":{
     "node_id":"hDMEbeyqpqDu2DXP8jjDDk",
     "type":"CODE",
     "hide_input_from_viewers":true,
     "hide_output_from_viewers":true
    }
   }
  },
  {
   "cell_type":"code",
   "source":[
    "f = cos(x)**2 + sin(x)**2\n",
    "df_dx = diff(f,x)\n",
    "diff(df_dx,x)"
   ],
   "execution_count":59,
   "outputs":[
    {
     "data":{
      "text\/latex":[
       "$\\displaystyle 0$"
      ]
     },
     "metadata":{
      
     },
     "output_type":"display_data"
    }
   ],
   "metadata":{
    "datalore":{
     "node_id":"pPFqLrsTWsVwaoQ537g63p",
     "type":"CODE",
     "hide_input_from_viewers":true,
     "hide_output_from_viewers":true
    }
   }
  }
 ],
 "metadata":{
  "kernelspec":{
   "display_name":"Python",
   "language":"python",
   "name":"python"
  },
  "datalore":{
   "computation_mode":"JUPYTER",
   "package_manager":"pip",
   "base_environment":"default",
   "packages":[
    
   ],
   "report_row_ids":[
    
   ],
   "version":3
  }
 },
 "nbformat":4,
 "nbformat_minor":4
}