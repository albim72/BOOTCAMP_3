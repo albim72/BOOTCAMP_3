{
 "cells":[
  {
   "cell_type":"markdown",
   "source":[
    "# Podstawy pakietu Numpy\n",
    "Analiza podstawowych **struktur pakietu**, przykłady budowy <span style=\"color:red; font-size:16pt; font-family:Impact;\">struktur danych<\/span>.\n",
    "<p>\n",
    "<img src=\"numpy.png\">\n",
    "<\/p>"
   ],
   "attachments":{
    
   },
   "metadata":{
    "datalore":{
     "node_id":"TScnkMp4c27l9qboMHPgiQ",
     "type":"MD",
     "hide_input_from_viewers":true,
     "hide_output_from_viewers":true
    }
   }
  },
  {
   "cell_type":"code",
   "source":[
    "import numpy as np"
   ],
   "execution_count":6,
   "outputs":[
    
   ],
   "metadata":{
    "datalore":{
     "node_id":"WgeEQmhwT5rAJLxg38wHic",
     "type":"CODE",
     "hide_input_from_viewers":true,
     "hide_output_from_viewers":true
    }
   }
  },
  {
   "cell_type":"code",
   "source":[
    "import numpy as np\r\n",
    "\r\n",
    "def split_into_words(sentence):\r\n",
    "    words = sentence.split()\r\n",
    "    return words\r\n",
    "\r\n",
    "# Test the function\r\n",
    "test_sentence = \"To jest przykładowe zdanie do podziału na słowa\"\r\n",
    "print(split_into_words(test_sentence))\r"
   ],
   "execution_count":2,
   "outputs":[
    {
     "name":"stdout",
     "text":[
      "['To', 'jest', 'przykładowe', 'zdanie', 'do', 'podziału', 'na', 'słowa']\n"
     ],
     "output_type":"stream"
    }
   ],
   "metadata":{
    "datalore":{
     "node_id":"nqSbYF22Vj27AYNEZBv8xo",
     "type":"CODE",
     "hide_input_from_viewers":true,
     "hide_output_from_viewers":true
    }
   }
  },
  {
   "cell_type":"code",
   "source":[
    "\r\n",
    "def convert_num_to_str(num):\r\n",
    "    \"\"\"\r\n",
    "    This function converts a number to a string.\r\n",
    "    It accepts both integers and floats and returns them as a string.\r\n",
    "    \"\"\"\r\n",
    "    return str(num)\r\n",
    "    \r\n",
    "# Test the function\r\n",
    "test_number = 12345\r\n",
    "print(convert_num_to_str(test_number))  # Expected output: \"12345\"\r"
   ],
   "execution_count":3,
   "outputs":[
    {
     "name":"stdout",
     "text":[
      "12345\n"
     ],
     "output_type":"stream"
    }
   ],
   "metadata":{
    "datalore":{
     "node_id":"VF8Th4qlgBEQiWhxIBlKzX",
     "type":"CODE",
     "hide_input_from_viewers":true,
     "hide_output_from_viewers":true
    }
   }
  },
  {
   "cell_type":"code",
   "source":[
    "\r\n",
    "def create_array(data_list, desired_shape):\r\n",
    "    \"\"\"\r\n",
    "    This function converts a list into a numpy array of a desired shape.\r\n",
    "    \"\"\"\r\n",
    "    if np.prod(desired_shape) == len(data_list):\r\n",
    "        return np.array(data_list).reshape(desired_shape)\r\n",
    "    else:\r\n",
    "        return \"Error: List length doesn't fit the desired shape\"\r\n",
    "\r\n",
    "# Test the function\r\n",
    "test_list = [1, 2, 3, 4, 6, 7, 8, 9]\r\n",
    "test_shape = (2, 4)\r\n",
    "print(create_array(test_list, test_shape))\r"
   ],
   "execution_count":4,
   "outputs":[
    {
     "name":"stdout",
     "text":[
      "[[1 2 3 4]\n",
      " [6 7 8 9]]\n"
     ],
     "output_type":"stream"
    }
   ],
   "metadata":{
    "datalore":{
     "node_id":"GT5g2QQ41gStphupiymtyf",
     "type":"CODE",
     "hide_input_from_viewers":true,
     "hide_output_from_viewers":true
    }
   }
  },
  {
   "cell_type":"code",
   "source":[
    "np.zeros(8)"
   ],
   "execution_count":7,
   "outputs":[
    {
     "data":{
      "text\/html":[
       "<pre>array([0., 0., 0., 0., 0., 0., 0., 0.])<\/pre>"
      ]
     },
     "metadata":{
      
     },
     "output_type":"display_data"
    }
   ],
   "metadata":{
    "datalore":{
     "node_id":"SQbOQXqn1m2gdOc5pkkAdx",
     "type":"CODE",
     "hide_input_from_viewers":true,
     "hide_output_from_viewers":true
    }
   }
  },
  {
   "cell_type":"code",
   "source":[
    "print(np.ones(11))"
   ],
   "execution_count":8,
   "outputs":[
    {
     "name":"stdout",
     "text":[
      "[1. 1. 1. 1. 1. 1. 1. 1. 1. 1. 1.]\n"
     ],
     "output_type":"stream"
    }
   ],
   "metadata":{
    "datalore":{
     "node_id":"E75aSUTgPYtZ4cK7kaO0iW",
     "type":"CODE",
     "hide_input_from_viewers":true,
     "hide_output_from_viewers":true
    }
   }
  },
  {
   "cell_type":"code",
   "source":[
    "np.empty(10)"
   ],
   "execution_count":9,
   "outputs":[
    {
     "data":{
      "text\/html":[
       "<pre>array([4.64841424e-310, 0.00000000e+000, 8.48798317e-313, 2.37663529e-312,\n",
       "       2.35541533e-312, 2.14321575e-312, 8.48798317e-313, 1.03977794e-312,\n",
       "       8.70018274e-313, 6.95010660e-310])<\/pre>"
      ]
     },
     "metadata":{
      
     },
     "output_type":"display_data"
    }
   ],
   "metadata":{
    "datalore":{
     "node_id":"9szroWdyxZMkGGe0XwmCXw",
     "type":"CODE",
     "hide_input_from_viewers":true,
     "hide_output_from_viewers":true
    }
   }
  },
  {
   "cell_type":"code",
   "source":[
    "u = np.arange(1,77,3)\n",
    "u"
   ],
   "execution_count":10,
   "outputs":[
    {
     "data":{
      "text\/html":[
       "<pre>array([ 1,  4,  7, 10, 13, 16, 19, 22, 25, 28, 31, 34, 37, 40, 43, 46, 49,\n",
       "       52, 55, 58, 61, 64, 67, 70, 73, 76])<\/pre>"
      ]
     },
     "metadata":{
      
     },
     "output_type":"display_data"
    }
   ],
   "metadata":{
    "datalore":{
     "node_id":"Yw7wgPVivpq1YyHy3HYGl7",
     "type":"CODE",
     "hide_input_from_viewers":true,
     "hide_output_from_viewers":true
    }
   }
  },
  {
   "cell_type":"code",
   "source":[
    "print(type(u))"
   ],
   "execution_count":11,
   "outputs":[
    {
     "name":"stdout",
     "text":[
      "<class 'numpy.ndarray'>\n"
     ],
     "output_type":"stream"
    }
   ],
   "metadata":{
    "datalore":{
     "node_id":"eLocQB2TEIDU7RyuEL8wp9",
     "type":"CODE",
     "hide_input_from_viewers":true,
     "hide_output_from_viewers":true
    }
   }
  },
  {
   "cell_type":"code",
   "source":[
    "zlista = [5,3,5,26,25,8,37,7]\n",
    "print(type(zlista))"
   ],
   "execution_count":13,
   "outputs":[
    {
     "name":"stdout",
     "text":[
      "<class 'list'>\n"
     ],
     "output_type":"stream"
    }
   ],
   "metadata":{
    "datalore":{
     "node_id":"HfYE5r07aUoO1qoWaUI2K6",
     "type":"CODE",
     "hide_input_from_viewers":true,
     "hide_output_from_viewers":true
    }
   }
  },
  {
   "cell_type":"code",
   "source":[
    "k = np.linspace(0,10,num=5)\n",
    "k"
   ],
   "execution_count":14,
   "outputs":[
    {
     "data":{
      "text\/html":[
       "<pre>array([ 0. ,  2.5,  5. ,  7.5, 10. ])<\/pre>"
      ]
     },
     "metadata":{
      
     },
     "output_type":"display_data"
    }
   ],
   "metadata":{
    "datalore":{
     "node_id":"f1pBe5e3sfzs7roOiEQ3F3",
     "type":"CODE",
     "hide_input_from_viewers":true,
     "hide_output_from_viewers":true
    }
   }
  },
  {
   "cell_type":"code",
   "source":[
    "mlista = np.array(zlista)\n",
    "print(mlista)\n",
    "print(type(mlista))"
   ],
   "execution_count":15,
   "outputs":[
    {
     "name":"stdout",
     "text":[
      "[ 5  3  5 26 25  8 37  7]\n",
      "<class 'numpy.ndarray'>\n"
     ],
     "output_type":"stream"
    }
   ],
   "metadata":{
    "datalore":{
     "node_id":"RsEHlP1eBqVmNSHZRTOTZZ",
     "type":"CODE",
     "hide_input_from_viewers":true,
     "hide_output_from_viewers":true
    }
   }
  },
  {
   "cell_type":"code",
   "source":[
    "kl = (4,223,67,89,24,1,5)\n",
    "znum = np.array(kl)\n",
    "print(znum)\n",
    "print(type(znum))"
   ],
   "execution_count":17,
   "outputs":[
    {
     "name":"stdout",
     "text":[
      "[  4 223  67  89  24   1   5]\n",
      "<class 'numpy.ndarray'>\n"
     ],
     "output_type":"stream"
    }
   ],
   "metadata":{
    "datalore":{
     "node_id":"6pqrzVtOCmFvzchKSa1REB",
     "type":"CODE",
     "hide_input_from_viewers":true,
     "hide_output_from_viewers":true
    }
   }
  },
  {
   "cell_type":"code",
   "source":[
    "mlista = list(znum)\n",
    "print(mlista)\n",
    "print(type(mlista))"
   ],
   "execution_count":19,
   "outputs":[
    {
     "name":"stdout",
     "text":[
      "[4, 223, 67, 89, 24, 1, 5]\n",
      "<class 'list'>\n"
     ],
     "output_type":"stream"
    }
   ],
   "metadata":{
    "datalore":{
     "node_id":"hzabDIybX2WpgLPCp1BnWQ",
     "type":"CODE",
     "hide_input_from_viewers":true,
     "hide_output_from_viewers":true
    }
   }
  },
  {
   "cell_type":"code",
   "source":[
    "zb = {45,25,8,9,12,45,7,25}\n",
    "znp = np.array(zb)\n",
    "print(znp)\n",
    "print(type(znp))"
   ],
   "execution_count":20,
   "outputs":[
    {
     "name":"stdout",
     "text":[
      "{7, 8, 9, 12, 45, 25}\n",
      "<class 'numpy.ndarray'>\n"
     ],
     "output_type":"stream"
    }
   ],
   "metadata":{
    "datalore":{
     "node_id":"KQkQFyHgf4N7vT2S7bde2h",
     "type":"CODE",
     "hide_input_from_viewers":true,
     "hide_output_from_viewers":true
    }
   }
  }
 ],
 "metadata":{
  "kernelspec":{
   "display_name":"Python",
   "language":"python",
   "name":"python"
  },
  "datalore":{
   "computation_mode":"JUPYTER",
   "package_manager":"pip",
   "base_environment":"default",
   "packages":[
    
   ],
   "report_row_ids":[
    
   ],
   "version":3
  }
 },
 "nbformat":4,
 "nbformat_minor":4
}